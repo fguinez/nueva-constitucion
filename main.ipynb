{
 "cells": [
  {
   "cell_type": "markdown",
   "metadata": {},
   "source": [
    "# Análisis de datos"
   ]
  },
  {
   "cell_type": "code",
   "execution_count": 3,
   "metadata": {},
   "outputs": [],
   "source": [
    "from functools import reduce\n",
    "from textwrap import wrap\n",
    "import re\n",
    "import math"
   ]
  },
  {
   "cell_type": "code",
   "execution_count": 4,
   "metadata": {},
   "outputs": [
    {
     "name": "stdout",
     "output_type": "stream",
     "text": [
      "499\n"
     ]
    }
   ],
   "source": [
    "with open(\"borrador_nueva_constitución.txt\", 'r') as file:\n",
    "    text = file.read()\n",
    "    arts = re.split(\"-\"*50, text)\n",
    "print(len(arts))"
   ]
  },
  {
   "cell_type": "markdown",
   "metadata": {},
   "source": [
    "Largo del artículo más largo:"
   ]
  },
  {
   "cell_type": "code",
   "execution_count": 21,
   "metadata": {},
   "outputs": [
    {
     "name": "stdout",
     "output_type": "stream",
     "text": [
      "Artículo: 441\n",
      "Largo: 4579\n",
      "Tweets aproximados: 17\n"
     ]
    }
   ],
   "source": [
    "max_art = max(arts, key=len)\n",
    "print(\"Artículo:\", max_art.split(\".-\")[0].strip())\n",
    "print(\"Largo:\", len(max_art))\n",
    "print(\"Tweets aproximados:\", math.ceil(len(max_art) / 269))"
   ]
  },
  {
   "cell_type": "markdown",
   "metadata": {},
   "source": [
    "Artículo con más incisos:"
   ]
  },
  {
   "cell_type": "code",
   "execution_count": 23,
   "metadata": {},
   "outputs": [
    {
     "name": "stdout",
     "output_type": "stream",
     "text": [
      "Artículo: 186\n",
      "Incisos: 27\n"
     ]
    }
   ],
   "source": [
    "arts_splited = (art.strip().split('\\n') for art in arts)\n",
    "max_art = max(arts_splited, key=len)\n",
    "print(\"Artículo:\", max_art[0].split(\".-\")[0].strip())\n",
    "print(\"Incisos:\", len(max_art))"
   ]
  },
  {
   "cell_type": "markdown",
   "metadata": {},
   "source": [
    "## Generación de tweets"
   ]
  },
  {
   "cell_type": "code",
   "execution_count": 30,
   "metadata": {},
   "outputs": [],
   "source": [
    "def get_tweets(art, max_len=280):\n",
    "    '''\n",
    "    Dado un artículo (srt), retorna una lista de tweets con el artículo.\n",
    "    '''\n",
    "    # Se eliminan los espacios en blanco en los extremos\n",
    "    art = art.strip()\n",
    "    # Si el artículo es muy corto, se devuelve un solo tweet\n",
    "    if len(art) <= max_len:\n",
    "        return [art]\n",
    "    # En caso contrario, se calculan los tweets necesarios\n",
    "    tweets = []\n",
    "    # Se resta de max_len es espacio necesario para codificar el índice de cada tweet\n",
    "    max_len -= len(\" (XX/XX)\")\n",
    "    # Se separa el artículo en incisos\n",
    "    clauses = art.split('\\n')\n",
    "    # Se recorren los incisos\n",
    "    i = 0\n",
    "    while i < len(clauses):\n",
    "        actual_tweet = clauses[i]\n",
    "        # Si el inciso es corto, se intenta añadir otro inciso en el mismo tweet\n",
    "        if len(actual_tweet) <= max_len:\n",
    "            actual_tweet_new = actual_tweet\n",
    "            while len(actual_tweet_new) < max_len and i < len(clauses):\n",
    "                actual_tweet = actual_tweet_new\n",
    "                i += 1\n",
    "                if i < len(clauses):\n",
    "                    actual_tweet_new += '\\n' + clauses[i]\n",
    "            tweets.append(actual_tweet)\n",
    "        # Si el inciso es muy largo, se divide en varios tweets\n",
    "        else:\n",
    "            incise_tweets = get_incise_tweets(actual_tweet, max_len - 2*len(\"...\"))\n",
    "            tweets.extend(incise_tweets)\n",
    "        i += 1\n",
    "    # Añadimos el índice de cada tweet\n",
    "    tweets = list(tweet + f\" ({i}/{len(tweets)})\" for i, tweet in enumerate(tweets, start=1))\n",
    "    return tweets\n",
    "\n",
    "def get_incise_tweets(incise, max_len):\n",
    "    '''\n",
    "    Dado un inciso, retorna una lista de tweets con el inciso.\n",
    "    '''\n",
    "    # Se eliminan los espacios en blanco en los extremos\n",
    "    incise = incise.strip()\n",
    "    # Se divide el inciso en bloques del largo de un tweet\n",
    "    tweets = wrap(incise, max_len)\n",
    "    # Se recorren los tweets generados\n",
    "    for i in range(len(tweets)):\n",
    "        # Si el tweet no es inicial y el tweet anterior no termina con un punto, se añaden puntos suspensivos al inicio\n",
    "        if i > 0:\n",
    "            if not re.search(\"[^.][.]\", tweets[i-1][-2:]):\n",
    "                tweets[i] = \"...\" + tweets[i]\n",
    "        # Si el tweet no es final y no termina con un punto, se añaden puntos suspensivos al final\n",
    "        if i < len(tweets) - 1:\n",
    "            if not re.search(\"[^.][.]\", tweets[i][-2:]):\n",
    "                tweets[i] = tweets[i] + \"...\"\n",
    "    return tweets\n",
    "\n",
    "def n_tweets(art):\n",
    "    '''\n",
    "    Dado un artículo, retorna el número de tweets necesarios para publicarlo.\n",
    "    '''\n",
    "    return len(get_tweets(art))"
   ]
  },
  {
   "cell_type": "markdown",
   "metadata": {},
   "source": [
    "Artículo que requiere más tweets:"
   ]
  },
  {
   "cell_type": "code",
   "execution_count": 33,
   "metadata": {},
   "outputs": [
    {
     "name": "stdout",
     "output_type": "stream",
     "text": [
      "Artículo: 441\n",
      "Tweets: 15\n"
     ]
    }
   ],
   "source": [
    "max_art = max(arts, key=n_tweets)\n",
    "print(\"Artículo:\", max_art.split(\".-\")[0].strip())\n",
    "print(\"Tweets:\", n_tweets(max_art))"
   ]
  },
  {
   "cell_type": "markdown",
   "metadata": {},
   "source": [
    "Tweet más largo de todos:"
   ]
  },
  {
   "cell_type": "code",
   "execution_count": 48,
   "metadata": {},
   "outputs": [
    {
     "name": "stdout",
     "output_type": "stream",
     "text": [
      "Largo: 280\n",
      "Tweet:\n",
      " 20.- Artículo 16.- Las diputadas y diputados y las y los representantes regionales podrán ser reelegidos sucesivamente en el cargo hasta por un período. Para estos efectos se entenderá que han ejercido su cargo durante un período cuando han cumplido más de la mitad de su mandato.\n"
     ]
    }
   ],
   "source": [
    "max_len = 0\n",
    "tweet = \"\"\n",
    "for art in arts:\n",
    "    act_twt = max(get_tweets(art), key=len)\n",
    "    act_len = len(act_twt)\n",
    "    if act_len > max_len:\n",
    "        max_len = act_len\n",
    "        tweet = act_twt\n",
    "print(\"Largo:\", max_len)\n",
    "print(\"Tweet:\\n\", tweet)"
   ]
  }
 ],
 "metadata": {
  "interpreter": {
   "hash": "9d0f9347d865e672eccb7311ff4327fc188309bd049cd97adc2834e7e704eb52"
  },
  "kernelspec": {
   "display_name": "Python 3.9.12 ('borrador-bot-PfDYP8fG')",
   "language": "python",
   "name": "python3"
  },
  "language_info": {
   "codemirror_mode": {
    "name": "ipython",
    "version": 3
   },
   "file_extension": ".py",
   "mimetype": "text/x-python",
   "name": "python",
   "nbconvert_exporter": "python",
   "pygments_lexer": "ipython3",
   "version": "3.9.12"
  },
  "orig_nbformat": 4
 },
 "nbformat": 4,
 "nbformat_minor": 2
}
