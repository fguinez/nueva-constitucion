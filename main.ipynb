{
 "cells": [
  {
   "cell_type": "code",
   "execution_count": 58,
   "metadata": {},
   "outputs": [],
   "source": [
    "import re"
   ]
  },
  {
   "cell_type": "code",
   "execution_count": 59,
   "metadata": {},
   "outputs": [],
   "source": [
    "with open(\"borrador_nueva_constitución.txt\", 'r') as file:\n",
    "    text = file.read()\n",
    "    arts = re.split(\"\\n([0-9]{1,3}.-)\", text)"
   ]
  },
  {
   "cell_type": "code",
   "execution_count": 60,
   "metadata": {},
   "outputs": [],
   "source": [
    "with open(\"test.txt\", 'w') as file:\n",
    "    for i in range(1, len(arts), 2):\n",
    "        art = (arts[i] + arts[i+1]).strip()\n",
    "        file.write(art)\n",
    "        file.write('\\n'+\"-\"*50+'\\n')"
   ]
  },
  {
   "cell_type": "code",
   "execution_count": 70,
   "metadata": {},
   "outputs": [
    {
     "name": "stdout",
     "output_type": "stream",
     "text": [
      "499\n",
      "1.- Artículo 2°.- Democracia paritaria. El Estado reconoce y promueve una sociedad en la que mujeres, hombres, diversidades y disidencias sexogenéricas participen en condiciones de igualdad sustantiva, reconociendo que su representación efectiva en el conjunto del proceso democrático es un principio y condición mínima para el ejercicio pleno y sustantivo de la democracia y la ciudadanía.\n",
      "            Todos los órganos colegiados del Estado, los órganos autónomos constitucionales y los órganos superiores y directivos de la Administración, así como los directorios de las empresas públicas y semipúblicas, deberán tener una composición paritaria que asegure que, al menos, el cincuenta por ciento de sus integrantes sean mujeres.\n",
      "            Asimismo, el Estado adoptará medidas para la representación de diversidades y disidencias de género a través del mecanismo que establezca la ley.\n",
      "            El Estado promoverá la integración paritaria en sus instituciones y en todos los espacios públicos y privados.\n"
     ]
    }
   ],
   "source": [
    "with open(\"test.txt\", 'r') as file:\n",
    "    text = file.read()\n",
    "    arts = re.split(\"-\"*50, text)\n",
    "print(len(arts))\n",
    "print(arts[0].strip())"
   ]
  },
  {
   "cell_type": "code",
   "execution_count": null,
   "metadata": {},
   "outputs": [],
   "source": []
  }
 ],
 "metadata": {
  "interpreter": {
   "hash": "9d0f9347d865e672eccb7311ff4327fc188309bd049cd97adc2834e7e704eb52"
  },
  "kernelspec": {
   "display_name": "Python 3.9.12 ('borrador-bot-PfDYP8fG')",
   "language": "python",
   "name": "python3"
  },
  "language_info": {
   "codemirror_mode": {
    "name": "ipython",
    "version": 3
   },
   "file_extension": ".py",
   "mimetype": "text/x-python",
   "name": "python",
   "nbconvert_exporter": "python",
   "pygments_lexer": "ipython3",
   "version": "3.9.12"
  },
  "orig_nbformat": 4
 },
 "nbformat": 4,
 "nbformat_minor": 2
}
