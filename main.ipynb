{
 "cells": [
  {
   "cell_type": "markdown",
   "metadata": {},
   "source": [
    "# Análisis de datos"
   ]
  },
  {
   "cell_type": "code",
   "execution_count": 30,
   "metadata": {},
   "outputs": [],
   "source": [
    "from functools import reduce\n",
    "import re\n",
    "import math"
   ]
  },
  {
   "cell_type": "code",
   "execution_count": 10,
   "metadata": {},
   "outputs": [
    {
     "name": "stdout",
     "output_type": "stream",
     "text": [
      "499\n"
     ]
    }
   ],
   "source": [
    "with open(\"borrador_nueva_constitución.txt\", 'r') as file:\n",
    "    text = file.read()\n",
    "    arts = re.split(\"-\"*50, text)\n",
    "print(len(arts))"
   ]
  },
  {
   "cell_type": "markdown",
   "metadata": {},
   "source": [
    "Largo del artículo más largo:"
   ]
  },
  {
   "cell_type": "code",
   "execution_count": 21,
   "metadata": {},
   "outputs": [
    {
     "name": "stdout",
     "output_type": "stream",
     "text": [
      "Artículo: 441\n",
      "Largo: 4579\n",
      "Tweets aproximados: 17\n"
     ]
    }
   ],
   "source": [
    "max_art = max(arts, key=len)\n",
    "print(\"Artículo:\", max_art.split(\".-\")[0].strip())\n",
    "print(\"Largo:\", len(max_art))\n",
    "print(\"Tweets aproximados:\", math.ceil(len(max_art) / 269))"
   ]
  },
  {
   "cell_type": "markdown",
   "metadata": {},
   "source": [
    "Artículo con más incisos:"
   ]
  },
  {
   "cell_type": "code",
   "execution_count": 23,
   "metadata": {},
   "outputs": [
    {
     "name": "stdout",
     "output_type": "stream",
     "text": [
      "Artículo: 186\n",
      "Incisos: 27\n"
     ]
    }
   ],
   "source": [
    "arts_splited = (art.strip().split('\\n') for art in arts)\n",
    "max_art = max(arts_splited, key=len)\n",
    "print(\"Artículo:\", max_art[0].split(\".-\")[0].strip())\n",
    "print(\"Incisos:\", len(max_art))"
   ]
  },
  {
   "cell_type": "markdown",
   "metadata": {},
   "source": [
    "Artículo que requiere más tweets:"
   ]
  },
  {
   "cell_type": "code",
   "execution_count": 46,
   "metadata": {},
   "outputs": [],
   "source": [
    "def n_tweets(art):\n",
    "    art_splited = art.strip().split('\\n')\n",
    "    n = reduce(lambda a, b: a+b, (math.ceil(len(inc) / 269) for inc in art_splited))\n",
    "    return n"
   ]
  },
  {
   "cell_type": "code",
   "execution_count": 47,
   "metadata": {},
   "outputs": [
    {
     "name": "stdout",
     "output_type": "stream",
     "text": [
      "Artículo: 186\n",
      "Tweets: 29\n"
     ]
    }
   ],
   "source": [
    "max_art = max(arts, key=n_tweets)\n",
    "print(\"Artículo:\", max_art.split(\".-\")[0].strip())\n",
    "print(\"Tweets:\", n_tweets(max_art))"
   ]
  },
  {
   "cell_type": "code",
   "execution_count": null,
   "metadata": {},
   "outputs": [],
   "source": []
  }
 ],
 "metadata": {
  "interpreter": {
   "hash": "9d0f9347d865e672eccb7311ff4327fc188309bd049cd97adc2834e7e704eb52"
  },
  "kernelspec": {
   "display_name": "Python 3.9.12 ('borrador-bot-PfDYP8fG')",
   "language": "python",
   "name": "python3"
  },
  "language_info": {
   "codemirror_mode": {
    "name": "ipython",
    "version": 3
   },
   "file_extension": ".py",
   "mimetype": "text/x-python",
   "name": "python",
   "nbconvert_exporter": "python",
   "pygments_lexer": "ipython3",
   "version": "3.9.12"
  },
  "orig_nbformat": 4
 },
 "nbformat": 4,
 "nbformat_minor": 2
}
